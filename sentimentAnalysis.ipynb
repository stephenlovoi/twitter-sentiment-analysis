{
  "nbformat": 4,
  "nbformat_minor": 0,
  "metadata": {
    "colab": {
      "name": "sentimentAnalysis.ipynb",
      "provenance": [],
      "collapsed_sections": [],
      "include_colab_link": true
    },
    "kernelspec": {
      "display_name": "Python 3",
      "name": "python3"
    },
    "language_info": {
      "name": "python"
    }
  },
  "cells": [
    {
      "cell_type": "markdown",
      "metadata": {
        "id": "view-in-github",
        "colab_type": "text"
      },
      "source": [
        "<a href=\"https://colab.research.google.com/github/stephenlovoi/twitter-sentiment-analysis/blob/main/sentimentAnalysis.ipynb\" target=\"_parent\"><img src=\"https://colab.research.google.com/assets/colab-badge.svg\" alt=\"Open In Colab\"/></a>"
      ]
    },
    {
      "cell_type": "code",
      "metadata": {
        "colab": {
          "base_uri": "https://localhost:8080/"
        },
        "id": "qUZKpA5nMBGR",
        "outputId": "dd06adec-372d-4ce7-cd2f-08527455e8f3"
      },
      "source": [
        "import os\n",
        "!wget http://setup.johnsnowlabs.com/colab.sh -O - | bash\n",
        "\n",
        "# Find the latest version of spark 3.0  from http://www-us.apache.org/dist/spark/ and enter as the spark version\n",
        "# For example:\n",
        "# spark_version = 'spark-3.0.2'\n",
        "# spark_version = 'spark-3.0.2'\n",
        "# os.environ['SPARK_VERSION']=spark_version\n",
        "\n",
        "# # Install Spark and Java\n",
        "# !apt-get update\n",
        "# !apt-get install openjdk-11-jdk-headless -qq \n",
        "# !wget -q http://www-us.apache.org/dist/spark/$SPARK_VERSION/$SPARK_VERSION-bin-hadoop2.7.tgz\n",
        "# !tar xf $SPARK_VERSION-bin-hadoop2.7.tgz\n",
        "# !pip install -q findspark\n",
        "\n",
        "\n",
        "# Set Environment Variables\n",
        "# os.environ[\"JAVA_HOME\"] = \"/usr/lib/jvm/java-11-openjdk-amd64\"\n",
        "# os.environ[\"SPARK_HOME\"] = f\"/content/{spark_version}-bin-hadoop2.7\"\n",
        "\n",
        "# Start a SparkSession\n",
        "# import findspark\n",
        "# findspark.init()"
      ],
      "execution_count": 1,
      "outputs": [
        {
          "output_type": "stream",
          "text": [
            "--2021-06-18 23:35:33--  http://setup.johnsnowlabs.com/colab.sh\n",
            "Resolving setup.johnsnowlabs.com (setup.johnsnowlabs.com)... 51.158.130.125\n",
            "Connecting to setup.johnsnowlabs.com (setup.johnsnowlabs.com)|51.158.130.125|:80... connected.\n",
            "HTTP request sent, awaiting response... 302 Moved Temporarily\n",
            "Location: https://raw.githubusercontent.com/JohnSnowLabs/spark-nlp/master/scripts/colab_setup.sh [following]\n",
            "--2021-06-18 23:35:33--  https://raw.githubusercontent.com/JohnSnowLabs/spark-nlp/master/scripts/colab_setup.sh\n",
            "Resolving raw.githubusercontent.com (raw.githubusercontent.com)... 185.199.109.133, 185.199.108.133, 185.199.110.133, ...\n",
            "Connecting to raw.githubusercontent.com (raw.githubusercontent.com)|185.199.109.133|:443... connected.\n",
            "HTTP request sent, awaiting response... 200 OK\n",
            "Length: 1608 (1.6K) [text/plain]\n",
            "Saving to: ‘STDOUT’\n",
            "\n",
            "-                   100%[===================>]   1.57K  --.-KB/s    in 0s      \n",
            "\n",
            "2021-06-18 23:35:33 (44.3 MB/s) - written to stdout [1608/1608]\n",
            "\n",
            "setup Colab for PySpark 3.0.2 and Spark NLP 3.1.0\n",
            "Hit:1 http://ppa.launchpad.net/c2d4u.team/c2d4u4.0+/ubuntu bionic InRelease\n",
            "Hit:2 http://archive.ubuntu.com/ubuntu bionic InRelease\n",
            "Get:3 http://archive.ubuntu.com/ubuntu bionic-updates InRelease [88.7 kB]\n",
            "Hit:4 https://cloud.r-project.org/bin/linux/ubuntu bionic-cran40/ InRelease\n",
            "Hit:5 http://ppa.launchpad.net/cran/libgit2/ubuntu bionic InRelease\n",
            "Hit:6 http://ppa.launchpad.net/deadsnakes/ppa/ubuntu bionic InRelease\n",
            "Get:7 http://archive.ubuntu.com/ubuntu bionic-backports InRelease [74.6 kB]\n",
            "Hit:8 http://ppa.launchpad.net/graphics-drivers/ppa/ubuntu bionic InRelease\n",
            "Get:9 http://security.ubuntu.com/ubuntu bionic-security InRelease [88.7 kB]\n",
            "Ign:10 https://developer.download.nvidia.com/compute/cuda/repos/ubuntu1804/x86_64  InRelease\n",
            "Ign:11 https://developer.download.nvidia.com/compute/machine-learning/repos/ubuntu1804/x86_64  InRelease\n",
            "Hit:12 https://developer.download.nvidia.com/compute/cuda/repos/ubuntu1804/x86_64  Release\n",
            "Hit:13 https://developer.download.nvidia.com/compute/machine-learning/repos/ubuntu1804/x86_64  Release\n",
            "Fetched 252 kB in 2s (149 kB/s)\n",
            "Reading package lists... Done\n"
          ],
          "name": "stdout"
        }
      ]
    },
    {
      "cell_type": "code",
      "metadata": {
        "id": "xPwf4imsMes7"
      },
      "source": [
        "import pandas as pd\n",
        "import numpy as np\n",
        "import matplotlib.pyplot as plt\n",
        "import seaborn as sns\n",
        "from pyspark.sql import SparkSession\n",
        "import pyspark as ps\n",
        "import warnings\n",
        "from pyspark.sql import SQLContext\n",
        "from pyspark.ml import Pipeline\n",
        "import pyspark.sql.functions as F\n",
        "from sparknlp.annotator import *\n",
        "from sparknlp.base import *\n",
        "import sparknlp\n",
        "from sparknlp.pretrained import PretrainedPipeline\n"
      ],
      "execution_count": 2,
      "outputs": []
    },
    {
      "cell_type": "code",
      "metadata": {
        "id": "7x79kiJnMzob"
      },
      "source": [
        "# Start Spark session\n",
        "spark = sparknlp.start()"
      ],
      "execution_count": 3,
      "outputs": []
    },
    {
      "cell_type": "code",
      "metadata": {
        "colab": {
          "base_uri": "https://localhost:8080/"
        },
        "id": "cU1QBGX7LuGs",
        "outputId": "a56b2374-834c-406c-be4a-84fcf7469a42"
      },
      "source": [
        "!wget https://jdbc.postgresql.org/download/postgresql-42.2.9.jar\n",
        "\n"
      ],
      "execution_count": 4,
      "outputs": [
        {
          "output_type": "stream",
          "text": [
            "--2021-06-18 23:36:05--  https://jdbc.postgresql.org/download/postgresql-42.2.9.jar\n",
            "Resolving jdbc.postgresql.org (jdbc.postgresql.org)... 72.32.157.228, 2001:4800:3e1:1::228\n",
            "Connecting to jdbc.postgresql.org (jdbc.postgresql.org)|72.32.157.228|:443... connected.\n",
            "HTTP request sent, awaiting response... 200 OK\n",
            "Length: 914037 (893K) [application/java-archive]\n",
            "Saving to: ‘postgresql-42.2.9.jar.4’\n",
            "\n",
            "postgresql-42.2.9.j 100%[===================>] 892.61K  1.76MB/s    in 0.5s    \n",
            "\n",
            "2021-06-18 23:36:06 (1.76 MB/s) - ‘postgresql-42.2.9.jar.4’ saved [914037/914037]\n",
            "\n"
          ],
          "name": "stdout"
        }
      ]
    },
    {
      "cell_type": "code",
      "metadata": {
        "colab": {
          "base_uri": "https://localhost:8080/"
        },
        "id": "tW1PYBcz6Aam",
        "outputId": "11bb4f8b-b305-494a-e38d-52ba5a16ce68"
      },
      "source": [
        "# Read in data from S3 Buckets\n",
        "from pyspark import SparkFiles\n",
        "url=\"https://trump-twitter-bucket.s3.us-east-2.amazonaws.com/trump_archive.csv\"\n",
        "spark.sparkContext.addFile(url)\n",
        "df = spark.read.csv(SparkFiles.get(\"trump_archive.csv\"), sep=\",\", header=True, inferSchema=True)\n",
        "\n",
        "# Show DataFrame\n",
        "df.show()"
      ],
      "execution_count": 5,
      "outputs": [
        {
          "output_type": "stream",
          "text": [
            "+---+--------------------+---------+---------+--------+-------------------+\n",
            "|_c0|                text|isRetweet|favorites|retweets|               date|\n",
            "+---+--------------------+---------+---------+--------+-------------------+\n",
            "|  0|Republicans and D...|        f|       49|     255|2011-08-02 18:07:48|\n",
            "|  1|The Unsolicited M...|        f|    80527|   23502|2020-09-12 20:10:58|\n",
            "|  2|The threshold ide...|        f|   493076|  100609|2020-11-09 19:36:26|\n",
            "|  3|Nevada is turning...|        f|   363489|   78378|2020-11-09 19:54:33|\n",
            "|  4|Wisconsin is look...|        f|   347994|   61006|2020-11-09 20:02:19|\n",
            "|  5|Pennsylvania prev...|        f|   479292|   81458|2020-11-09 20:17:47|\n",
            "|  6|Just landed in Oh...|        f|   139153|   14000|2020-10-24 20:13:08|\n",
            "|  7|Georgia will be a...|        f|   637719|   94570|2020-11-09 20:21:43|\n",
            "|  8|How can you certi...|        f|   211508|   56945|2021-01-04 15:07:16|\n",
            "|  9|Polls numbers are...|        f|   280261|   52623|2020-10-16 11:24:43|\n",
            "| 10|Heading to Georgi...|        f|   313859|   38244|2021-01-04 23:36:58|\n",
            "| 11|Landed in Wiscons...|        f|   168796|   18240|2020-10-25 00:40:17|\n",
            "| 12|...ABC/WaPo had m...|        f|   152654|   27735|2020-11-10 00:38:59|\n",
            "| 13|.@FoxNews, @Quinn...|        f|   254530|   53987|2020-11-10 00:38:59|\n",
            "| 14|Pleased to announ...|        f|   177332|   42347|2021-01-05 14:50:49|\n",
            "| 15|Who will be runni...|        f|   218908|   30412|2020-11-16 14:49:06|\n",
            "| 16|The Fake recount ...|        f|   254635|   50961|2020-11-16 14:04:50|\n",
            "| 17|Georgia, get out ...|        f|   215340|   41746|2021-01-05 15:02:22|\n",
            "| 18|The Vice Presiden...|        f|   429984|   90069|2021-01-05 16:06:45|\n",
            "| 19|Reports are comin...|        f|   198868|   54896|2021-01-05 18:18:24|\n",
            "+---+--------------------+---------+---------+--------+-------------------+\n",
            "only showing top 20 rows\n",
            "\n"
          ],
          "name": "stdout"
        }
      ]
    },
    {
      "cell_type": "code",
      "metadata": {
        "id": "C6cq4ifWTuZ0"
      },
      "source": [
        "df = df[~df.text.startswith('\"')]"
      ],
      "execution_count": 6,
      "outputs": []
    },
    {
      "cell_type": "code",
      "metadata": {
        "id": "FQMzJuEWLTCS"
      },
      "source": [
        "text_list = list(df.select('text').toPandas()['text'])\n"
      ],
      "execution_count": 7,
      "outputs": []
    },
    {
      "cell_type": "code",
      "metadata": {
        "id": "1GmOXjY0ga0o"
      },
      "source": [
        "# from pyspark.sql.functions import col\n",
        "# df = df.where(col(\"_c0\").between(0, 20))\n",
        "# df = df.dropna()\n",
        "\n",
        "# tweet_col = df.select('text').collect()\n",
        "# tweet_col"
      ],
      "execution_count": 8,
      "outputs": []
    },
    {
      "cell_type": "code",
      "metadata": {
        "colab": {
          "base_uri": "https://localhost:8080/"
        },
        "id": "FSzacL47dUtl",
        "outputId": "019c62b6-2152-491b-d348-d403a28244a4"
      },
      "source": [
        "\n",
        "MODEL_NAME='sentimentdl_use_twitter'\n",
        "# text_list = [\n",
        "#              \"\"\"Republicans and Democrats have both created our economic problems.\"\"\",\n",
        "#              \"\"\"The Unsolicited Mail In Ballot Scam is a major threat to our Democracy, &amp; the Democrats know it. Almost all recent elections using this system, even though much smaller &amp;  with far fewer Ballots to count, have ended up being a disaster. Large numbers of missing Ballots &amp; Fraud!\"\"\"\n",
        "#              ]\n",
        "documentAssembler = DocumentAssembler()\\\n",
        "    .setInputCol(\"text\")\\\n",
        "    .setOutputCol(\"document\")\n",
        "    \n",
        "use = UniversalSentenceEncoder.pretrained(name=\"tfhub_use\", lang=\"en\")\\\n",
        " .setInputCols([\"document\"])\\\n",
        " .setOutputCol(\"sentence_embeddings\")\n",
        "\n",
        "\n",
        "sentimentdl = SentimentDLModel.pretrained(name=MODEL_NAME, lang=\"en\")\\\n",
        "    .setInputCols([\"sentence_embeddings\"])\\\n",
        "    .setOutputCol(\"sentiment\")\n",
        "\n",
        "nlpPipeline = Pipeline(\n",
        "      stages = [\n",
        "          documentAssembler,\n",
        "          use,\n",
        "          sentimentdl\n",
        "      ])\n",
        "empty_df = spark.createDataFrame([['']]).toDF(\"text\")\n",
        "\n",
        "pipelineModel = nlpPipeline.fit(empty_df)\n",
        "\n",
        "sentiment_df = spark.createDataFrame(pd.DataFrame({\"text\":text_list}))\n",
        "result = pipelineModel.transform(sentiment_df)\n",
        "\n",
        "sentiment = result.select(F.explode(F.arrays_zip('document.result', 'sentiment.result')).alias(\"cols\")) \\\n",
        ".select(F.expr(\"cols['0']\").alias(\"document\"),\n",
        "        F.expr(\"cols['1']\").alias(\"sentiment\"))\n",
        "        \n"
      ],
      "execution_count": 9,
      "outputs": [
        {
          "output_type": "stream",
          "text": [
            "tfhub_use download started this may take some time.\n",
            "Approximate size to download 923.7 MB\n",
            "[OK!]\n",
            "sentimentdl_use_twitter download started this may take some time.\n",
            "Approximate size to download 11.4 MB\n",
            "[OK!]\n"
          ],
          "name": "stdout"
        }
      ]
    },
    {
      "cell_type": "code",
      "metadata": {
        "colab": {
          "base_uri": "https://localhost:8080/"
        },
        "id": "RLsl-z1vacqr",
        "outputId": "cb899619-2634-45dc-b971-2727db61c718"
      },
      "source": [
        "sentiment.show(truncate=False)"
      ],
      "execution_count": 10,
      "outputs": [
        {
          "output_type": "stream",
          "text": [
            "+--------------------------------------------------------------------------------------------------------------------------------------------------------------------------------------------------------------------------------------------------------------------------------------------------+---------+\n",
            "|document                                                                                                                                                                                                                                                                                          |sentiment|\n",
            "+--------------------------------------------------------------------------------------------------------------------------------------------------------------------------------------------------------------------------------------------------------------------------------------------------+---------+\n",
            "|Republicans and Democrats have both created our economic problems.                                                                                                                                                                                                                                |negative |\n",
            "|The Unsolicited Mail In Ballot Scam is a major threat to our Democracy, &amp; the Democrats know it. Almost all recent elections using this system, even though much smaller &amp;  with far fewer Ballots to count, have ended up being a disaster. Large numbers of missing Ballots &amp; Fraud!|negative |\n",
            "|The threshold identification of Ballots is turning out to be even bigger than originally anticipated. A very large number of Ballots are impacted. Stay tuned!                                                                                                                                    |neutral  |\n",
            "|Nevada is turning out to be a cesspool of Fake Votes. @mschlapp &amp; @AdamLaxalt are finding things that, when released, will be absolutely shocking!                                                                                                                                            |negative |\n",
            "|Wisconsin is looking very good. Needs a little time statutorily. Will happen soon! @Reince @SeanDuffyWI                                                                                                                                                                                           |positive |\n",
            "|Pennsylvania prevented us from watching much of the Ballot count. Unthinkable and illegal in this country.                                                                                                                                                                                        |negative |\n",
            "|Just landed in Ohio. See you in a little while!                                                                                                                                                                                                                                                   |positive |\n",
            "|Georgia will be a big presidential win, as it was the night of the Election!                                                                                                                                                                                                                      |positive |\n",
            "|How can you certify an election when the numbers being certified are verifiably WRONG. You will see the real numbers tonight during my speech, but especially on JANUARY 6th. @SenTomCotton Republicans have pluses &amp; minuses, but one thing is sure, THEY NEVER FORGET!                      |negative |\n",
            "|Polls numbers are looking very strong. Big crowds, great enthusiasm. Massive RED WAVE coming!!!                                                                                                                                                                                                   |positive |\n",
            "|Heading to Georgia now. See you soon!                                                                                                                                                                                                                                                             |positive |\n",
            "|Landed in Wisconsin. BIG CROWD. On my way!                                                                                                                                                                                                                                                        |positive |\n",
            "|...ABC/WaPo had me down 17 points in Wisconsin, the day before the election, and I WON! In Iowa, the polls had us 4 points down, and I won by 8.2%! Fox News and Quinnipiac were wrong on everything...                                                                                           |negative |\n",
            "|.@FoxNews, @QuinnipiacPoll, ABC/WaPo, NBC/WSJ were so inaccurate with their polls on me, that it really is tampering with an Election. They were so far off in their polling, and in their attempt to suppress - that they should be called out for Election Interference...                      |negative |\n",
            "|Pleased to announce that @KLoeffler &amp; @sendavidperdue have just joined our great #StopTheSteal group of Senators. They will fight the ridiculous Electoral College Certification of Biden. How do you certify numbers that have now proven to be wrong and, in many cases, fraudulent!        |positive |\n",
            "|Who will be running for Governor of the Great State of Ohio? Will be hotly contested!                                                                                                                                                                                                             |positive |\n",
            "|The Fake recount going on in Georgia means nothing because they are not allowing signatures to be looked at and verified. Break the unconstitutional Consent Decree!                                                                                                                              |negative |\n",
            "|Georgia, get out and VOTE for two great Senators, @KLoeffler and @sendavidperdue. So important to do so!                                                                                                                                                                                          |positive |\n",
            "|The Vice President has the power to reject fraudulently chosen electors.                                                                                                                                                                                                                          |positive |\n",
            "|Reports are coming out of the 12th Congressional District of Georgia that Dominion Machines are not working in certain Republican Strongholds for over an hour. Ballots are being left in lock boxes, hopefully they count them. Thank you Congressman @RickAllen!                                |negative |\n",
            "+--------------------------------------------------------------------------------------------------------------------------------------------------------------------------------------------------------------------------------------------------------------------------------------------------+---------+\n",
            "only showing top 20 rows\n",
            "\n"
          ],
          "name": "stdout"
        }
      ]
    },
    {
      "cell_type": "code",
      "metadata": {
        "id": "isynyFenAnaP"
      },
      "source": [
        "tweets = df.select([\"text\",\"favorites\", \"date\"])"
      ],
      "execution_count": 11,
      "outputs": []
    },
    {
      "cell_type": "code",
      "metadata": {
        "colab": {
          "base_uri": "https://localhost:8080/"
        },
        "id": "g_bPywnyTeUt",
        "outputId": "ab9d84aa-83c5-4ee6-e0b5-66602d19ef0f"
      },
      "source": [
        "joined = tweets.join(sentiment,tweets.text ==  sentiment.document,\"inner\")\n",
        "joined.show()"
      ],
      "execution_count": 12,
      "outputs": [
        {
          "output_type": "stream",
          "text": [
            "+--------------------+---------+-------------------+--------------------+---------+\n",
            "|                text|favorites|               date|            document|sentiment|\n",
            "+--------------------+---------+-------------------+--------------------+---------+\n",
            "|Republicans and D...|       49|2011-08-02 18:07:48|Republicans and D...| negative|\n",
            "|The Unsolicited M...|    80527|2020-09-12 20:10:58|The Unsolicited M...| negative|\n",
            "|The threshold ide...|   493076|2020-11-09 19:36:26|The threshold ide...|  neutral|\n",
            "|Nevada is turning...|   363489|2020-11-09 19:54:33|Nevada is turning...| negative|\n",
            "|Wisconsin is look...|   347994|2020-11-09 20:02:19|Wisconsin is look...| positive|\n",
            "|Pennsylvania prev...|   479292|2020-11-09 20:17:47|Pennsylvania prev...| negative|\n",
            "|Just landed in Oh...|   139153|2020-10-24 20:13:08|Just landed in Oh...| positive|\n",
            "|Georgia will be a...|   637719|2020-11-09 20:21:43|Georgia will be a...| positive|\n",
            "|How can you certi...|   211508|2021-01-04 15:07:16|How can you certi...| negative|\n",
            "|Polls numbers are...|   280261|2020-10-16 11:24:43|Polls numbers are...| positive|\n",
            "|Heading to Georgi...|   313859|2021-01-04 23:36:58|Heading to Georgi...| positive|\n",
            "|Landed in Wiscons...|   168796|2020-10-25 00:40:17|Landed in Wiscons...| positive|\n",
            "|...ABC/WaPo had m...|   152654|2020-11-10 00:38:59|...ABC/WaPo had m...| negative|\n",
            "|.@FoxNews, @Quinn...|   254530|2020-11-10 00:38:59|.@FoxNews, @Quinn...| negative|\n",
            "|Pleased to announ...|   177332|2021-01-05 14:50:49|Pleased to announ...| positive|\n",
            "|Who will be runni...|   218908|2020-11-16 14:49:06|Who will be runni...| positive|\n",
            "|The Fake recount ...|   254635|2020-11-16 14:04:50|The Fake recount ...| negative|\n",
            "|Georgia, get out ...|   215340|2021-01-05 15:02:22|Georgia, get out ...| positive|\n",
            "|The Vice Presiden...|   429984|2021-01-05 16:06:45|The Vice Presiden...| positive|\n",
            "|Reports are comin...|   198868|2021-01-05 18:18:24|Reports are comin...| negative|\n",
            "+--------------------+---------+-------------------+--------------------+---------+\n",
            "only showing top 20 rows\n",
            "\n"
          ],
          "name": "stdout"
        }
      ]
    },
    {
      "cell_type": "code",
      "metadata": {
        "colab": {
          "base_uri": "https://localhost:8080/"
        },
        "id": "eDbztU20C3BE",
        "outputId": "33a2e0f4-7650-4301-cc46-983a41d21f45"
      },
      "source": [
        "from pyspark.sql.types import IntegerType\n",
        "joined = joined.withColumn(\"favorites\", joined[\"favorites\"].cast(IntegerType()))\n",
        "joined.show()"
      ],
      "execution_count": 13,
      "outputs": [
        {
          "output_type": "stream",
          "text": [
            "+--------------------+---------+-------------------+--------------------+---------+\n",
            "|                text|favorites|               date|            document|sentiment|\n",
            "+--------------------+---------+-------------------+--------------------+---------+\n",
            "|Republicans and D...|       49|2011-08-02 18:07:48|Republicans and D...| negative|\n",
            "|The Unsolicited M...|    80527|2020-09-12 20:10:58|The Unsolicited M...| negative|\n",
            "|The threshold ide...|   493076|2020-11-09 19:36:26|The threshold ide...|  neutral|\n",
            "|Nevada is turning...|   363489|2020-11-09 19:54:33|Nevada is turning...| negative|\n",
            "|Wisconsin is look...|   347994|2020-11-09 20:02:19|Wisconsin is look...| positive|\n",
            "|Pennsylvania prev...|   479292|2020-11-09 20:17:47|Pennsylvania prev...| negative|\n",
            "|Just landed in Oh...|   139153|2020-10-24 20:13:08|Just landed in Oh...| positive|\n",
            "|Georgia will be a...|   637719|2020-11-09 20:21:43|Georgia will be a...| positive|\n",
            "|How can you certi...|   211508|2021-01-04 15:07:16|How can you certi...| negative|\n",
            "|Polls numbers are...|   280261|2020-10-16 11:24:43|Polls numbers are...| positive|\n",
            "|Heading to Georgi...|   313859|2021-01-04 23:36:58|Heading to Georgi...| positive|\n",
            "|Landed in Wiscons...|   168796|2020-10-25 00:40:17|Landed in Wiscons...| positive|\n",
            "|...ABC/WaPo had m...|   152654|2020-11-10 00:38:59|...ABC/WaPo had m...| negative|\n",
            "|.@FoxNews, @Quinn...|   254530|2020-11-10 00:38:59|.@FoxNews, @Quinn...| negative|\n",
            "|Pleased to announ...|   177332|2021-01-05 14:50:49|Pleased to announ...| positive|\n",
            "|Who will be runni...|   218908|2020-11-16 14:49:06|Who will be runni...| positive|\n",
            "|The Fake recount ...|   254635|2020-11-16 14:04:50|The Fake recount ...| negative|\n",
            "|Georgia, get out ...|   215340|2021-01-05 15:02:22|Georgia, get out ...| positive|\n",
            "|The Vice Presiden...|   429984|2021-01-05 16:06:45|The Vice Presiden...| positive|\n",
            "|Reports are comin...|   198868|2021-01-05 18:18:24|Reports are comin...| negative|\n",
            "+--------------------+---------+-------------------+--------------------+---------+\n",
            "only showing top 20 rows\n",
            "\n"
          ],
          "name": "stdout"
        }
      ]
    },
    {
      "cell_type": "code",
      "metadata": {
        "id": "SsP3vVviAs_r"
      },
      "source": [
        "from pyspark.ml.feature import Tokenizer, StopWordsRemover, HashingTF, IDF, StringIndexer\n",
        "from pyspark.ml.feature import VectorAssembler\n",
        "from pyspark.ml.linalg import Vector\n",
        "from pyspark.ml import Pipeline\n",
        "\n",
        "pos_neg_to_num = StringIndexer(inputCol='sentiment', outputCol='label')\n",
        "tokenizer = Tokenizer(inputCol=\"text\", outputCol=\"token_text\")\n",
        "stopremove = StopWordsRemover(inputCol='token_text',outputCol='stop_tokens')\n",
        "hashingTF = HashingTF(inputCol=\"token_text\", outputCol='hash_token')\n",
        "idf = IDF(inputCol='hash_token', outputCol='idf_token')\n",
        "\n",
        "# Calculate term frequency \n",
        "\n",
        "# feature vectors\n",
        "clean_up = VectorAssembler(inputCols=['idf_token', 'favorites'], outputCol='features').setHandleInvalid(\"skip\")\n",
        "pipeline = Pipeline(stages=[pos_neg_to_num, tokenizer, stopremove, hashingTF, idf, clean_up])"
      ],
      "execution_count": 14,
      "outputs": []
    },
    {
      "cell_type": "code",
      "metadata": {
        "colab": {
          "base_uri": "https://localhost:8080/"
        },
        "id": "oChkrOhqBowQ",
        "outputId": "a85083a1-96e7-465f-dda2-ddd226331182"
      },
      "source": [
        "fit = pipeline.fit(joined)\n",
        "transform = fit.transform(joined)\n",
        "\n",
        "transform.show()"
      ],
      "execution_count": 15,
      "outputs": [
        {
          "output_type": "stream",
          "text": [
            "+--------------------+---------+-------------------+--------------------+---------+-----+--------------------+--------------------+--------------------+--------------------+--------------------+\n",
            "|                text|favorites|               date|            document|sentiment|label|          token_text|         stop_tokens|          hash_token|           idf_token|            features|\n",
            "+--------------------+---------+-------------------+--------------------+---------+-----+--------------------+--------------------+--------------------+--------------------+--------------------+\n",
            "|Republicans and D...|       49|2011-08-02 18:07:48|Republicans and D...| negative|  1.0|[republicans, and...|[republicans, dem...|(262144,[4629,879...|(262144,[4629,879...|(262145,[4629,879...|\n",
            "|The Unsolicited M...|    80527|2020-09-12 20:10:58|The Unsolicited M...| negative|  1.0|[the, unsolicited...|[unsolicited, mai...|(262144,[4376,462...|(262144,[4376,462...|(262145,[4376,462...|\n",
            "|The threshold ide...|   493076|2020-11-09 19:36:26|The threshold ide...|  neutral|  2.0|[the, threshold, ...|[threshold, ident...|(262144,[27576,58...|(262144,[27576,58...|(262145,[27576,58...|\n",
            "|Nevada is turning...|   363489|2020-11-09 19:54:33|Nevada is turning...| negative|  1.0|[nevada, is, turn...|[nevada, turning,...|(262144,[24980,26...|(262144,[24980,26...|(262145,[24980,26...|\n",
            "|Wisconsin is look...|   347994|2020-11-09 20:02:19|Wisconsin is look...| positive|  0.0|[wisconsin, is, l...|[wisconsin, looki...|(262144,[12336,49...|(262144,[12336,49...|(262145,[12336,49...|\n",
            "|Pennsylvania prev...|   479292|2020-11-09 20:17:47|Pennsylvania prev...| negative|  1.0|[pennsylvania, pr...|[pennsylvania, pr...|(262144,[39561,46...|(262144,[39561,46...|(262145,[39561,46...|\n",
            "|Just landed in Oh...|   139153|2020-10-24 20:13:08|Just landed in Oh...| positive|  0.0|[just, landed, in...|[landed, ohio., s...|(262144,[8538,927...|(262144,[8538,927...|(262145,[8538,927...|\n",
            "|Georgia will be a...|   637719|2020-11-09 20:21:43|Georgia will be a...| positive|  0.0|[georgia, will, b...|[georgia, big, pr...|(262144,[30950,45...|(262144,[30950,45...|(262145,[30950,45...|\n",
            "|How can you certi...|   211508|2021-01-04 15:07:16|How can you certi...| negative|  1.0|[how, can, you, c...|[certify, electio...|(262144,[8538,879...|(262144,[8538,879...|(262145,[8538,879...|\n",
            "|Polls numbers are...|   280261|2020-10-16 11:24:43|Polls numbers are...| positive|  0.0|[polls, numbers, ...|[polls, numbers, ...|(262144,[10564,39...|(262144,[10564,39...|(262145,[10564,39...|\n",
            "|Heading to Georgi...|   313859|2021-01-04 23:36:58|Heading to Georgi...| positive|  0.0|[heading, to, geo...|[heading, georgia...|(262144,[8538,275...|(262144,[8538,275...|(262145,[8538,275...|\n",
            "|Landed in Wiscons...|   168796|2020-10-25 00:40:17|Landed in Wiscons...| positive|  0.0|[landed, in, wisc...|[landed, wisconsi...|(262144,[30480,67...|(262144,[30480,67...|(262145,[30480,67...|\n",
            "|...ABC/WaPo had m...|   152654|2020-11-10 00:38:59|...ABC/WaPo had m...| negative|  1.0|[...abc/wapo, had...|[...abc/wapo, 17,...|(262144,[19036,25...|(262144,[19036,25...|(262145,[19036,25...|\n",
            "|.@FoxNews, @Quinn...|   254530|2020-11-10 00:38:59|.@FoxNews, @Quinn...| negative|  1.0|[.@foxnews,, @qui...|[.@foxnews,, @qui...|(262144,[9056,270...|(262144,[9056,270...|(262145,[9056,270...|\n",
            "|Pleased to announ...|   177332|2021-01-05 14:50:49|Pleased to announ...| positive|  0.0|[pleased, to, ann...|[pleased, announc...|(262144,[2977,462...|(262144,[2977,462...|(262145,[2977,462...|\n",
            "|Who will be runni...|   218908|2020-11-16 14:49:06|Who will be runni...| positive|  0.0|[who, will, be, r...|[running, governo...|(262144,[89356,92...|(262144,[89356,92...|(262145,[89356,92...|\n",
            "|The Fake recount ...|   254635|2020-11-16 14:04:50|The Fake recount ...| negative|  1.0|[the, fake, recou...|[fake, recount, g...|(262144,[11262,25...|(262144,[11262,25...|(262145,[11262,25...|\n",
            "|Georgia, get out ...|   215340|2021-01-05 15:02:22|Georgia, get out ...| positive|  0.0|[georgia,, get, o...|[georgia,, get, v...|(262144,[6203,153...|(262144,[6203,153...|(262145,[6203,153...|\n",
            "|The Vice Presiden...|   429984|2021-01-05 16:06:45|The Vice Presiden...| positive|  0.0|[the, vice, presi...|[vice, president,...|(262144,[27576,73...|(262144,[27576,73...|(262145,[27576,73...|\n",
            "|Reports are comin...|   198868|2021-01-05 18:18:24|Reports are comin...| negative|  1.0|[reports, are, co...|[reports, coming,...|(262144,[12409,28...|(262144,[12409,28...|(262145,[12409,28...|\n",
            "+--------------------+---------+-------------------+--------------------+---------+-----+--------------------+--------------------+--------------------+--------------------+--------------------+\n",
            "only showing top 20 rows\n",
            "\n"
          ],
          "name": "stdout"
        }
      ]
    },
    {
      "cell_type": "code",
      "metadata": {
        "colab": {
          "base_uri": "https://localhost:8080/"
        },
        "id": "mvP9QLQ9cy1P",
        "outputId": "bb694f2b-369b-4ee3-f8c0-a9751a4463ef"
      },
      "source": [
        "transform.select('label','features').show()"
      ],
      "execution_count": 16,
      "outputs": [
        {
          "output_type": "stream",
          "text": [
            "+-----+--------------------+\n",
            "|label|            features|\n",
            "+-----+--------------------+\n",
            "|  1.0|(262145,[4629,879...|\n",
            "|  1.0|(262145,[4376,462...|\n",
            "|  2.0|(262145,[27576,58...|\n",
            "|  1.0|(262145,[24980,26...|\n",
            "|  0.0|(262145,[12336,49...|\n",
            "|  1.0|(262145,[39561,46...|\n",
            "|  0.0|(262145,[8538,927...|\n",
            "|  0.0|(262145,[30950,45...|\n",
            "|  1.0|(262145,[8538,879...|\n",
            "|  0.0|(262145,[10564,39...|\n",
            "|  0.0|(262145,[8538,275...|\n",
            "|  0.0|(262145,[30480,67...|\n",
            "|  1.0|(262145,[19036,25...|\n",
            "|  1.0|(262145,[9056,270...|\n",
            "|  0.0|(262145,[2977,462...|\n",
            "|  0.0|(262145,[89356,92...|\n",
            "|  1.0|(262145,[11262,25...|\n",
            "|  0.0|(262145,[6203,153...|\n",
            "|  0.0|(262145,[27576,73...|\n",
            "|  1.0|(262145,[12409,28...|\n",
            "+-----+--------------------+\n",
            "only showing top 20 rows\n",
            "\n"
          ],
          "name": "stdout"
        }
      ]
    },
    {
      "cell_type": "code",
      "metadata": {
        "colab": {
          "base_uri": "https://localhost:8080/"
        },
        "id": "Fv3i0FDCQHfe",
        "outputId": "29a110d5-4067-4544-a4a8-af6131fba232"
      },
      "source": [
        "from pyspark.ml.classification import NaiveBayes\n",
        "\n",
        "# split train test  \n",
        "training, testing = transform.randomSplit([0.7, 0.3])\n",
        "\n",
        "# fit \n",
        "nb = NaiveBayes()\n",
        "predictor = nb.fit(training)\n",
        "\n",
        "# Tranform the model with the testing data\n",
        "test_results = predictor.transform(testing)\n",
        "test_results.show()\n"
      ],
      "execution_count": 17,
      "outputs": [
        {
          "output_type": "stream",
          "text": [
            "+--------------------+---------+-------------------+--------------------+---------+-----+--------------------+--------------------+--------------------+--------------------+--------------------+--------------------+--------------------+----------+\n",
            "|                text|favorites|               date|            document|sentiment|label|          token_text|         stop_tokens|          hash_token|           idf_token|            features|       rawPrediction|         probability|prediction|\n",
            "+--------------------+---------+-------------------+--------------------+---------+-----+--------------------+--------------------+--------------------+--------------------+--------------------+--------------------+--------------------+----------+\n",
            "|#2.  Keep your mo...|      372|2013-12-23 18:41:29|#2.  Keep your mo...| positive|  0.0|[#2., , keep, you...|[#2., , keep, mom...|(262144,[5528,244...|(262144,[5528,244...|(262145,[5528,244...|[-980.49539330993...|[0.99990739272697...|       0.0|\n",
            "|#2. Be totally fo...|      373|2013-10-02 15:11:02|#2. Be totally fo...| positive|  0.0|[#2., be, totally...|[#2., totally, fo...|(262144,[50616,55...|(262144,[50616,55...|(262145,[50616,55...|[-1208.3903852970...|[3.38280106995448...|       2.0|\n",
            "|#3.  Look at the ...|      438|2013-12-23 18:42:00|#3.  Look at the ...| positive|  0.0|[#3., , look, at,...|[#3., , look, sol...|(262144,[1354,147...|(262144,[1354,147...|(262145,[1354,147...|[-982.64600032720...|[4.19645227824722...|       2.0|\n",
            "|#3. Cover your ba...|      308|2013-10-02 15:11:46|#3. Cover your ba...| positive|  0.0|[#3., cover, your...|[#3., cover, base...|(262144,[3497,187...|(262144,[3497,187...|(262145,[3497,187...|[-966.25605539757...|[2.32145122610756...|       2.0|\n",
            "|#CelebrityApprent...|        5|2012-04-16 16:10:27|#CelebrityApprent...| positive|  0.0|[#celebrityappren...|[#celebrityappren...|(262144,[5381,125...|(262144,[5381,125...|(262145,[5381,125...|[-1514.6529319015...|[3.00627281358052...|       2.0|\n",
            "|#CelebrityApprent...|       14|2012-05-20 22:33:51|#CelebrityApprent...| positive|  0.0|[#celebrityappren...|[#celebrityappren...|(262144,[6294,330...|(262144,[6294,330...|(262145,[6294,330...|[-1429.9757622473...|[9.46144444716722...|       2.0|\n",
            "|#CelebrityApprent...|        3|2012-04-09 17:27:39|#CelebrityApprent...| positive|  0.0|[#celebrityappren...|[#celebrityappren...|(262144,[27576,43...|(262144,[27576,43...|(262145,[27576,43...|[-1022.1571315045...|[4.88632473243787...|       2.0|\n",
            "|#FlashbackFriday ...|       39|2013-08-23 17:42:43|#FlashbackFriday ...| positive|  0.0|[#flashbackfriday...|[#flashbackfriday...|(262144,[53145,10...|(262144,[53145,10...|(262145,[53145,10...|[-1388.1315910726...|[3.04203203165588...|       2.0|\n",
            "|#SuccessByTrump, ...|       15|2012-10-17 21:01:45|#SuccessByTrump, ...| positive|  0.0|[#successbytrump,...|[#successbytrump,...|(262144,[57642,68...|(262144,[57642,68...|(262145,[57642,68...|[-1832.8437540675...|[1.11894092242746...|       2.0|\n",
            "|#SuperBowl Vote f...|        9|2012-02-05 17:01:28|#SuperBowl Vote f...| positive|  0.0|[#superbowl, vote...|[#superbowl, vote...|(262144,[43362,49...|(262144,[43362,49...|(262145,[43362,49...|[-678.71379580834...|[3.82913083988375...|       2.0|\n",
            "|#TBT At the US Op...|       19|2013-04-25 16:44:09|#TBT At the US Op...| positive|  0.0|[#tbt, at, the, u...|[#tbt, us, open, ...|(262144,[8538,111...|(262144,[8538,111...|(262145,[8538,111...|[-1254.6104406577...|[1.19574914246964...|       2.0|\n",
            "|#TrumpAdvice http...|       15|2013-08-19 19:50:45|#TrumpAdvice http...|  neutral|  2.0|[#trumpadvice, ht...|[#trumpadvice, ht...|(262144,[243890,2...|(262144,[243890,2...|(262145,[243890,2...|[-319.86156616013...|[1.52265510724377...|       2.0|\n",
            "|#noratings @Lawre...|        8|2011-12-15 15:55:01|#noratings @Lawre...| negative|  1.0|[#noratings, @law...|[#noratings, @law...|(262144,[9056,368...|(262144,[9056,368...|(262145,[9056,368...|[-1355.4927736938...|[1.08667358458889...|       2.0|\n",
            "|#sweepstweet @Don...|       13|2012-05-07 02:04:04|#sweepstweet @Don...| positive|  0.0|[#sweepstweet, @d...|[#sweepstweet, @d...|(262144,[8449,190...|(262144,[8449,190...|(262145,[8449,190...|[-1477.0183877822...|[4.26340916044883...|       2.0|\n",
            "|#trumpvlog @Barac...|       25|2011-11-29 21:22:07|#trumpvlog @Barac...| negative|  1.0|[#trumpvlog, @bar...|[#trumpvlog, @bar...|(262144,[14495,18...|(262144,[14495,18...|(262145,[14495,18...|[-582.65753893724...|[7.52142649435781...|       2.0|\n",
            "|#trumpvlog My tho...|       18|2012-02-08 21:11:07|#trumpvlog My tho...| positive|  0.0|[#trumpvlog, my, ...|[#trumpvlog, thou...|(262144,[5647,324...|(262144,[5647,324...|(262145,[5647,324...|[-881.12361358513...|[5.23772292581537...|       2.0|\n",
            "|#trumpvlog NY Are...|        6|2011-12-13 20:45:50|#trumpvlog NY Are...| positive|  0.0|[#trumpvlog, ny, ...|[#trumpvlog, ny, ...|(262144,[40429,73...|(262144,[40429,73...|(262145,[40429,73...|[-1170.3114262285...|[9.43899459813912...|       2.0|\n",
            "|#trumpvlog Same l...|       53|2011-12-14 15:11:31|#trumpvlog Same l...| negative|  1.0|[#trumpvlog, same...|[#trumpvlog, last...|(262144,[5381,111...|(262144,[5381,111...|(262145,[5381,111...|[-1215.9340622694...|[1.34196751450548...|       2.0|\n",
            "|$2000 for our gre...|   374411|2020-12-29 13:46:57|$2000 for our gre...| negative|  1.0|[$2000, for, our,...|[$2000, great, pe...|(262144,[4629,958...|(262144,[4629,958...|(262145,[4629,958...|[-1656.5830213711...|[1.0,1.0351751129...|       0.0|\n",
            "|$30M a year and A...|       20|2012-10-11 16:38:46|$30M a year and A...| negative|  1.0|[$30m, a, year, a...|[$30m, year, a-ro...|(262144,[19153,20...|(262144,[19153,20...|(262145,[19153,20...|[-2228.8553111897...|[3.12725384222288...|       2.0|\n",
            "+--------------------+---------+-------------------+--------------------+---------+-----+--------------------+--------------------+--------------------+--------------------+--------------------+--------------------+--------------------+----------+\n",
            "only showing top 20 rows\n",
            "\n"
          ],
          "name": "stdout"
        }
      ]
    },
    {
      "cell_type": "code",
      "metadata": {
        "id": "RkqG85HQHzL9"
      },
      "source": [
        "# Import test quotes \n",
        "\n",
        "# Run test quotes on model \n",
        "\n",
        "# Get accuracy"
      ],
      "execution_count": 18,
      "outputs": []
    },
    {
      "cell_type": "code",
      "metadata": {
        "id": "G2SAbdppHmcJ",
        "colab": {
          "base_uri": "https://localhost:8080/"
        },
        "outputId": "3d864846-518f-41fe-c467-6c1e201eae18"
      },
      "source": [
        "from pyspark.ml.evaluation import MulticlassClassificationEvaluator\n",
        "\n",
        "acc_eval = MulticlassClassificationEvaluator()\n",
        "acc = acc_eval.evaluate(test_results)\n",
        "print(\"Accuracy of model at predicting was: %f\" % acc)"
      ],
      "execution_count": 19,
      "outputs": [
        {
          "output_type": "stream",
          "text": [
            "Accuracy of model at predicting was: 0.560752\n"
          ],
          "name": "stdout"
        }
      ]
    },
    {
      "cell_type": "code",
      "metadata": {
        "colab": {
          "base_uri": "https://localhost:8080/"
        },
        "id": "BqAUPw9_M_pK",
        "outputId": "54a92852-578d-439e-8c76-a06df1bf46c5"
      },
      "source": [
        "from google.colab import drive\n",
        "drive.mount('drive')"
      ],
      "execution_count": null,
      "outputs": [
        {
          "output_type": "stream",
          "text": [
            "Drive already mounted at drive; to attempt to forcibly remount, call drive.mount(\"drive\", force_remount=True).\n"
          ],
          "name": "stdout"
        }
      ]
    },
    {
      "cell_type": "code",
      "metadata": {
        "id": "WgqlDdS_RgYm"
      },
      "source": [
        "x = joined.toPandas()"
      ],
      "execution_count": null,
      "outputs": []
    },
    {
      "cell_type": "code",
      "metadata": {
        "id": "kWNCe4RNNPw_"
      },
      "source": [
        "# Save File as CSV\n",
        "x.to_csv('trump_sentiment.csv')\n",
        "!cp trump_sentiment.csv \"drive/My Drive/\""
      ],
      "execution_count": null,
      "outputs": []
    }
  ]
}