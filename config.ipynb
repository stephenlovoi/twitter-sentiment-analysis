{
 "cells": [
  {
   "cell_type": "code",
   "execution_count": null,
   "metadata": {},
   "outputs": [],
   "source": [
    "api_key = \"8kK11GHSfNj43LrKVEdqpxQrb\"\n",
    "api_secret = \"w4ACJE26rwz7o0nHFuCbXU7hyYTuB8a8t44ALcmrk1dv0vsYhT\"\n",
    "access_token = \"2335390153-n7lvttURBl3axHzqZjOZRXzB283m8aPOsqX1Xud\"\n",
    "access_token_secret = \"YSdR4aXyR6Qh36P3LqtYJRrXKefI7AEpKjrKB916sxynG\""
   ]
  }
 ],
 "metadata": {
  "kernelspec": {
   "display_name": "Python 3",
   "language": "python",
   "name": "python3"
  },
  "language_info": {
   "codemirror_mode": {
    "name": "ipython",
    "version": 3
   },
   "file_extension": ".py",
   "mimetype": "text/x-python",
   "name": "python",
   "nbconvert_exporter": "python",
   "pygments_lexer": "ipython3",
   "version": "3.8.5"
  }
 },
 "nbformat": 4,
 "nbformat_minor": 4
}
