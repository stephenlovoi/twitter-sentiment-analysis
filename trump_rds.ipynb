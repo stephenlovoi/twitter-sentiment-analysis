{
  "nbformat": 4,
  "nbformat_minor": 0,
  "metadata": {
    "kernelspec": {
      "display_name": "Python 3",
      "language": "python",
      "name": "python3"
    },
    "language_info": {
      "codemirror_mode": {
        "name": "ipython",
        "version": 3
      },
      "file_extension": ".py",
      "mimetype": "text/x-python",
      "name": "python",
      "nbconvert_exporter": "python",
      "pygments_lexer": "ipython3",
      "version": "3.8.5"
    },
    "colab": {
      "name": "trump_rds.ipynb",
      "provenance": [],
      "collapsed_sections": [],
      "include_colab_link": true
    }
  },
  "cells": [
    {
      "cell_type": "markdown",
      "metadata": {
        "id": "view-in-github",
        "colab_type": "text"
      },
      "source": [
        "<a href=\"https://colab.research.google.com/github/stephenlovoi/twitter-sentiment-analysis/blob/main/trump_rds.ipynb\" target=\"_parent\"><img src=\"https://colab.research.google.com/assets/colab-badge.svg\" alt=\"Open In Colab\"/></a>"
      ]
    },
    {
      "cell_type": "code",
      "metadata": {
        "colab": {
          "base_uri": "https://localhost:8080/"
        },
        "id": "vBwPjS9c7cZy",
        "outputId": "7dd3e9f3-c33a-4313-b9cd-675b356bfcc0"
      },
      "source": [
        "# OPEN FILE IN GOOGLE COLAB\n",
        "\n",
        "import os\n",
        "\n",
        "spark_version = 'spark-3.0.2'\n",
        "os.environ['SPARK_VERSION']=spark_version\n",
        "\n",
        "# Install Spark and Java\n",
        "!apt-get update\n",
        "!apt-get install openjdk-11-jdk-headless -qq > /dev/null\n",
        "!wget -q http://www-us.apache.org/dist/spark/$SPARK_VERSION/$SPARK_VERSION-bin-hadoop2.7.tgz\n",
        "!tar xf $SPARK_VERSION-bin-hadoop2.7.tgz\n",
        "!pip install -q findspark\n",
        "\n",
        "# Set Environment Variables\n",
        "os.environ[\"JAVA_HOME\"] = \"/usr/lib/jvm/java-11-openjdk-amd64\"\n",
        "os.environ[\"SPARK_HOME\"] = f\"/content/{spark_version}-bin-hadoop2.7\"\n",
        "\n",
        "# Start a SparkSession\n",
        "import findspark\n",
        "findspark.init()"
      ],
      "execution_count": 2,
      "outputs": [
        {
          "output_type": "stream",
          "text": [
            "\r0% [Working]\r            \rHit:1 https://cloud.r-project.org/bin/linux/ubuntu bionic-cran40/ InRelease\n",
            "\r0% [Connecting to archive.ubuntu.com (91.189.88.142)] [Connecting to security.u\r0% [1 InRelease gpgv 3,626 B] [Connecting to archive.ubuntu.com (91.189.88.142)\r                                                                               \rIgn:2 https://developer.download.nvidia.com/compute/cuda/repos/ubuntu1804/x86_64  InRelease\n",
            "\r0% [1 InRelease gpgv 3,626 B] [Connecting to archive.ubuntu.com (91.189.88.142)\r                                                                               \rGet:3 http://security.ubuntu.com/ubuntu bionic-security InRelease [88.7 kB]\n",
            "\r0% [1 InRelease gpgv 3,626 B] [Connecting to archive.ubuntu.com (91.189.88.142)\r                                                                               \rIgn:4 https://developer.download.nvidia.com/compute/machine-learning/repos/ubuntu1804/x86_64  InRelease\n",
            "Get:5 https://developer.download.nvidia.com/compute/cuda/repos/ubuntu1804/x86_64  Release [697 B]\n",
            "Hit:6 https://developer.download.nvidia.com/compute/machine-learning/repos/ubuntu1804/x86_64  Release\n",
            "Get:7 https://developer.download.nvidia.com/compute/cuda/repos/ubuntu1804/x86_64  Release.gpg [836 B]\n",
            "Hit:8 http://archive.ubuntu.com/ubuntu bionic InRelease\n",
            "Hit:9 http://ppa.launchpad.net/c2d4u.team/c2d4u4.0+/ubuntu bionic InRelease\n",
            "Get:10 http://archive.ubuntu.com/ubuntu bionic-updates InRelease [88.7 kB]\n",
            "Hit:11 http://ppa.launchpad.net/cran/libgit2/ubuntu bionic InRelease\n",
            "Ign:13 https://developer.download.nvidia.com/compute/cuda/repos/ubuntu1804/x86_64  Packages\n",
            "Get:13 https://developer.download.nvidia.com/compute/cuda/repos/ubuntu1804/x86_64  Packages [599 kB]\n",
            "Hit:14 http://ppa.launchpad.net/deadsnakes/ppa/ubuntu bionic InRelease\n",
            "Get:15 http://archive.ubuntu.com/ubuntu bionic-backports InRelease [74.6 kB]\n",
            "Hit:16 http://ppa.launchpad.net/graphics-drivers/ppa/ubuntu bionic InRelease\n",
            "Get:17 http://security.ubuntu.com/ubuntu bionic-security/universe amd64 Packages [1,415 kB]\n",
            "Get:18 http://security.ubuntu.com/ubuntu bionic-security/main amd64 Packages [2,185 kB]\n",
            "Get:19 http://archive.ubuntu.com/ubuntu bionic-updates/universe amd64 Packages [2,185 kB]\n",
            "Get:20 http://archive.ubuntu.com/ubuntu bionic-updates/main amd64 Packages [2,619 kB]\n",
            "Fetched 9,255 kB in 3s (2,943 kB/s)\n",
            "Reading package lists... Done\n"
          ],
          "name": "stdout"
        }
      ]
    },
    {
      "cell_type": "code",
      "metadata": {
        "colab": {
          "base_uri": "https://localhost:8080/"
        },
        "id": "kJHLyFd37cZ0",
        "outputId": "081b840b-fe7d-4f74-a13f-10be97d4bcbc"
      },
      "source": [
        "!wget https://jdbc.postgresql.org/download/postgresql-42.2.9.jar"
      ],
      "execution_count": 3,
      "outputs": [
        {
          "output_type": "stream",
          "text": [
            "--2021-06-19 14:02:38--  https://jdbc.postgresql.org/download/postgresql-42.2.9.jar\n",
            "Resolving jdbc.postgresql.org (jdbc.postgresql.org)... 72.32.157.228, 2001:4800:3e1:1::228\n",
            "Connecting to jdbc.postgresql.org (jdbc.postgresql.org)|72.32.157.228|:443... connected.\n",
            "HTTP request sent, awaiting response... 200 OK\n",
            "Length: 914037 (893K) [application/java-archive]\n",
            "Saving to: ‘postgresql-42.2.9.jar’\n",
            "\n",
            "postgresql-42.2.9.j 100%[===================>] 892.61K  4.33MB/s    in 0.2s    \n",
            "\n",
            "2021-06-19 14:02:39 (4.33 MB/s) - ‘postgresql-42.2.9.jar’ saved [914037/914037]\n",
            "\n"
          ],
          "name": "stdout"
        }
      ]
    },
    {
      "cell_type": "code",
      "metadata": {
        "id": "V61x5TzP7cZ1"
      },
      "source": [
        "from pyspark.sql import SparkSession\n",
        "spark = SparkSession.builder.appName(\"CloudETL\").config(\"spark.driver.extraClassPath\",\"/content/postgresql-42.2.9.jar\").getOrCreate()"
      ],
      "execution_count": 4,
      "outputs": []
    },
    {
      "cell_type": "code",
      "metadata": {
        "colab": {
          "base_uri": "https://localhost:8080/"
        },
        "id": "_h_gRFWq7cZ1",
        "outputId": "36920d63-bf20-4498-e4b7-13b10031b5d9"
      },
      "source": [
        "# Read in data from S3 Buckets\n",
        "from pyspark import SparkFiles\n",
        "url=\"https://trump-twitter-bucket.s3.us-east-2.amazonaws.com/trump_archive.csv\"\n",
        "spark.sparkContext.addFile(url)\n",
        "\n",
        "trump_archive_df = spark.read.csv(SparkFiles.get(\"trump_archive.csv\"), sep=\",\", header=True, inferSchema=True)\n",
        "\n",
        "# Show DataFrame\n",
        "trump_archive_df.show()"
      ],
      "execution_count": 5,
      "outputs": [
        {
          "output_type": "stream",
          "text": [
            "+---+--------------------+---------+---------+--------+-------------------+\n",
            "|_c0|                text|isRetweet|favorites|retweets|               date|\n",
            "+---+--------------------+---------+---------+--------+-------------------+\n",
            "|  0|Republicans and D...|        f|       49|     255|2011-08-02 18:07:48|\n",
            "|  1|The Unsolicited M...|        f|    80527|   23502|2020-09-12 20:10:58|\n",
            "|  2|The threshold ide...|        f|   493076|  100609|2020-11-09 19:36:26|\n",
            "|  3|Nevada is turning...|        f|   363489|   78378|2020-11-09 19:54:33|\n",
            "|  4|Wisconsin is look...|        f|   347994|   61006|2020-11-09 20:02:19|\n",
            "|  5|Pennsylvania prev...|        f|   479292|   81458|2020-11-09 20:17:47|\n",
            "|  6|Just landed in Oh...|        f|   139153|   14000|2020-10-24 20:13:08|\n",
            "|  7|Georgia will be a...|        f|   637719|   94570|2020-11-09 20:21:43|\n",
            "|  8|How can you certi...|        f|   211508|   56945|2021-01-04 15:07:16|\n",
            "|  9|Polls numbers are...|        f|   280261|   52623|2020-10-16 11:24:43|\n",
            "| 10|Heading to Georgi...|        f|   313859|   38244|2021-01-04 23:36:58|\n",
            "| 11|Landed in Wiscons...|        f|   168796|   18240|2020-10-25 00:40:17|\n",
            "| 12|...ABC/WaPo had m...|        f|   152654|   27735|2020-11-10 00:38:59|\n",
            "| 13|.@FoxNews, @Quinn...|        f|   254530|   53987|2020-11-10 00:38:59|\n",
            "| 14|Pleased to announ...|        f|   177332|   42347|2021-01-05 14:50:49|\n",
            "| 15|Who will be runni...|        f|   218908|   30412|2020-11-16 14:49:06|\n",
            "| 16|The Fake recount ...|        f|   254635|   50961|2020-11-16 14:04:50|\n",
            "| 17|Georgia, get out ...|        f|   215340|   41746|2021-01-05 15:02:22|\n",
            "| 18|The Vice Presiden...|        f|   429984|   90069|2021-01-05 16:06:45|\n",
            "| 19|Reports are comin...|        f|   198868|   54896|2021-01-05 18:18:24|\n",
            "+---+--------------------+---------+---------+--------+-------------------+\n",
            "only showing top 20 rows\n",
            "\n"
          ],
          "name": "stdout"
        }
      ]
    },
    {
      "cell_type": "code",
      "metadata": {
        "colab": {
          "base_uri": "https://localhost:8080/"
        },
        "id": "w6NBYuHSAjFg",
        "outputId": "aefb7fe3-b309-4a5d-a10d-74cf28683d9c"
      },
      "source": [
        "url=\"https://trump-twitter-bucket.s3.us-east-2.amazonaws.com/testquotes.csv\"\n",
        "spark.sparkContext.addFile(url)\n",
        "\n",
        "testquote_df = spark.read.csv(SparkFiles.get(\"testquotes.csv\"), sep=\",\", header=True, inferSchema=True)\n",
        "\n",
        "# Show DataFrame\n",
        "testquote_df.show()"
      ],
      "execution_count": 6,
      "outputs": [
        {
          "output_type": "stream",
          "text": [
            "+---+--------------------+\n",
            "|_c0|               quote|\n",
            "+---+--------------------+\n",
            "|  0| “I am the only o...|\n",
            "|  1| “I deal with for...|\n",
            "|  2| “With the coldes...|\n",
            "|  3| “I don't like to...|\n",
            "|  4| “This very expen...|\n",
            "|  5| “A lot of people...|\n",
            "|  6| “You have to thi...|\n",
            "|  7| “Somebody's got ...|\n",
            "|  8| “Sometimes by lo...|\n",
            "|  9| “Life is actuall...|\n",
            "| 10| “Nothing is easy...|\n",
            "| 11| “I don't think I...|\n",
            "| 12| “Sheer persisten...|\n",
            "| 13| “My father built...|\n",
            "| 14| “You can't be sc...|\n",
            "| 15| “There's always ...|\n",
            "| 16| “Well, I am a Re...|\n",
            "| 17| “I fire people t...|\n",
            "| 18| “I like thinking...|\n",
            "| 19| “Sometimes I don...|\n",
            "+---+--------------------+\n",
            "only showing top 20 rows\n",
            "\n"
          ],
          "name": "stdout"
        }
      ]
    },
    {
      "cell_type": "code",
      "metadata": {
        "colab": {
          "base_uri": "https://localhost:8080/"
        },
        "id": "EKjITAJY7cZ1",
        "outputId": "313b4636-7d97-496c-9487-f0514adf3087"
      },
      "source": [
        "trump_archive_df.describe()"
      ],
      "execution_count": 7,
      "outputs": [
        {
          "output_type": "execute_result",
          "data": {
            "text/plain": [
              "DataFrame[summary: string, _c0: string, text: string, isRetweet: string, favorites: string, retweets: string, date: string]"
            ]
          },
          "metadata": {
            "tags": []
          },
          "execution_count": 7
        }
      ]
    },
    {
      "cell_type": "code",
      "metadata": {
        "id": "dijcl-ps7cZ2"
      },
      "source": [
        "clean_trump_archive_df = trump_archive_df.select([\"text\", \"favorites\", \"retweets\"])"
      ],
      "execution_count": 8,
      "outputs": []
    },
    {
      "cell_type": "code",
      "metadata": {
        "colab": {
          "base_uri": "https://localhost:8080/"
        },
        "id": "gZaoMK0n7cZ2",
        "outputId": "f26bd422-1c80-4f9f-f850-b2b70efe047f"
      },
      "source": [
        "from pyspark.sql.functions import to_timestamp\n",
        "from pyspark.sql.types import IntegerType, StructField, StructType, StringType\n",
        "\n",
        "\n",
        "clean_trump_archive_df = clean_trump_archive_df.withColumn(\"favorites\", clean_trump_archive_df[\"favorites\"].cast(IntegerType()))\n",
        "clean_trump_archive_df = clean_trump_archive_df.withColumn(\"retweets\", clean_trump_archive_df.retweets.cast(IntegerType()))\n",
        "\n",
        "testquote_df = testquote_df.withColumn(\"_c0\", testquote_df[\"_c0\"].cast(IntegerType()))"
      ],
      "execution_count": 13,
      "outputs": [
        {
          "output_type": "execute_result",
          "data": {
            "text/plain": [
              "[('_c0', 'int'), ('quote', 'string')]"
            ]
          },
          "metadata": {
            "tags": []
          },
          "execution_count": 13
        }
      ]
    },
    {
      "cell_type": "code",
      "metadata": {
        "id": "aKyJuZE87cZ2"
      },
      "source": [
        "# Configure settings for RDS\n",
        "mode = \"append\"\n",
        "jdbc_url=\"jdbc:postgresql://trump-twitter-db.cyjaclylpg2n.us-east-2.rds.amazonaws.com:5432/trump_archive_db\"\n",
        "config = {\"user\":\"postgres\", \n",
        "          \"password\": \"\", \n",
        "          \"driver\":\"org.postgresql.Driver\"}"
      ],
      "execution_count": 14,
      "outputs": []
    },
    {
      "cell_type": "code",
      "metadata": {
        "id": "wK7gU_nI7cZ3"
      },
      "source": [
        "# Write data into SQL\n",
        "clean_trump_archive_df.write.jdbc(url=jdbc_url, table='trump_tweets', mode=mode, properties=config)"
      ],
      "execution_count": null,
      "outputs": []
    },
    {
      "cell_type": "code",
      "metadata": {
        "id": "I-Xw-XTH7cZ3"
      },
      "source": [
        "testquote_df.write.jdbc(url=jdbc_url, table='trump_quotes', mode=mode, properties=config)"
      ],
      "execution_count": 15,
      "outputs": []
    }
  ]
}